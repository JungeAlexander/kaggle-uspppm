{
 "cells": [
  {
   "cell_type": "markdown",
   "id": "447e3cdf-3e53-4915-828a-16490b86fdc4",
   "metadata": {},
   "source": [
    "# Initial EDA, train/dev split and modelling"
   ]
  },
  {
   "cell_type": "code",
   "execution_count": 1,
   "id": "05b84b82-e2da-4514-b612-03cfd16f0157",
   "metadata": {},
   "outputs": [],
   "source": [
    "import os\n",
    "from pathlib import Path\n",
    "from typing import Callable\n",
    "\n",
    "import numpy as np\n",
    "import pandas as pd\n",
    "import transformers\n",
    "from numpy.random import default_rng\n",
    "from scipy.spatial.distance import cosine\n",
    "from sentence_transformers import SentenceTransformer\n",
    "\n",
    "rng = default_rng(42)"
   ]
  },
  {
   "cell_type": "code",
   "execution_count": 2,
   "id": "dead3e4c-4c8d-4683-8ca6-09321e077d1c",
   "metadata": {},
   "outputs": [],
   "source": [
    "is_kaggle = os.environ.get(\"KAGGLE_KERNEL_RUN_TYPE\", \"\")"
   ]
  },
  {
   "cell_type": "code",
   "execution_count": 3,
   "id": "fd5fb677-3b6d-4805-93d6-596cfad45a05",
   "metadata": {},
   "outputs": [],
   "source": [
    "data_dir = Path(\"../input/us-patent-phrase-to-phrase-matching\")"
   ]
  },
  {
   "cell_type": "code",
   "execution_count": 4,
   "id": "31e77bab-c0db-4436-ae09-195898ceb506",
   "metadata": {},
   "outputs": [],
   "source": [
    "df = pd.read_csv(data_dir / \"train.csv\")"
   ]
  },
  {
   "cell_type": "code",
   "execution_count": 5,
   "id": "15f80418-ca51-497a-a477-91c9df6500bc",
   "metadata": {},
   "outputs": [
    {
     "data": {
      "text/html": [
       "<div>\n",
       "<style scoped>\n",
       "    .dataframe tbody tr th:only-of-type {\n",
       "        vertical-align: middle;\n",
       "    }\n",
       "\n",
       "    .dataframe tbody tr th {\n",
       "        vertical-align: top;\n",
       "    }\n",
       "\n",
       "    .dataframe thead th {\n",
       "        text-align: right;\n",
       "    }\n",
       "</style>\n",
       "<table border=\"1\" class=\"dataframe\">\n",
       "  <thead>\n",
       "    <tr style=\"text-align: right;\">\n",
       "      <th></th>\n",
       "      <th>id</th>\n",
       "      <th>anchor</th>\n",
       "      <th>target</th>\n",
       "      <th>context</th>\n",
       "      <th>score</th>\n",
       "    </tr>\n",
       "  </thead>\n",
       "  <tbody>\n",
       "    <tr>\n",
       "      <th>0</th>\n",
       "      <td>37d61fd2272659b1</td>\n",
       "      <td>abatement</td>\n",
       "      <td>abatement of pollution</td>\n",
       "      <td>A47</td>\n",
       "      <td>0.50</td>\n",
       "    </tr>\n",
       "    <tr>\n",
       "      <th>1</th>\n",
       "      <td>7b9652b17b68b7a4</td>\n",
       "      <td>abatement</td>\n",
       "      <td>act of abating</td>\n",
       "      <td>A47</td>\n",
       "      <td>0.75</td>\n",
       "    </tr>\n",
       "    <tr>\n",
       "      <th>2</th>\n",
       "      <td>36d72442aefd8232</td>\n",
       "      <td>abatement</td>\n",
       "      <td>active catalyst</td>\n",
       "      <td>A47</td>\n",
       "      <td>0.25</td>\n",
       "    </tr>\n",
       "    <tr>\n",
       "      <th>3</th>\n",
       "      <td>5296b0c19e1ce60e</td>\n",
       "      <td>abatement</td>\n",
       "      <td>eliminating process</td>\n",
       "      <td>A47</td>\n",
       "      <td>0.50</td>\n",
       "    </tr>\n",
       "    <tr>\n",
       "      <th>4</th>\n",
       "      <td>54c1e3b9184cb5b6</td>\n",
       "      <td>abatement</td>\n",
       "      <td>forest region</td>\n",
       "      <td>A47</td>\n",
       "      <td>0.00</td>\n",
       "    </tr>\n",
       "  </tbody>\n",
       "</table>\n",
       "</div>"
      ],
      "text/plain": [
       "                 id     anchor                  target context  score\n",
       "0  37d61fd2272659b1  abatement  abatement of pollution     A47   0.50\n",
       "1  7b9652b17b68b7a4  abatement          act of abating     A47   0.75\n",
       "2  36d72442aefd8232  abatement         active catalyst     A47   0.25\n",
       "3  5296b0c19e1ce60e  abatement     eliminating process     A47   0.50\n",
       "4  54c1e3b9184cb5b6  abatement           forest region     A47   0.00"
      ]
     },
     "execution_count": 5,
     "metadata": {},
     "output_type": "execute_result"
    }
   ],
   "source": [
    "df.head()"
   ]
  },
  {
   "cell_type": "markdown",
   "id": "b86a0721-d84e-43da-916d-2e164fb60552",
   "metadata": {},
   "source": [
    "## train/dev split ensuring indepdendent anchors\n",
    "\n",
    "Motivated by this thread: https://www.kaggle.com/competitions/us-patent-phrase-to-phrase-matching/discussion/315220"
   ]
  },
  {
   "cell_type": "code",
   "execution_count": 6,
   "id": "9ae163dd-0917-4eb9-ae24-6a0594109e27",
   "metadata": {},
   "outputs": [],
   "source": [
    "anchors = df.anchor.unique()\n",
    "rng.shuffle(anchors)\n",
    "train_frac = 0.8\n",
    "split_idx = int(0.8 * anchors.shape[0])\n",
    "train_anchors = anchors[:split_idx]\n",
    "dev_anchors = anchors[split_idx:]"
   ]
  },
  {
   "cell_type": "code",
   "execution_count": 7,
   "id": "4f1a8aa1-26ac-4526-9871-323fa1e554e0",
   "metadata": {},
   "outputs": [
    {
     "name": "stdout",
     "output_type": "stream",
     "text": [
      "29287 training samples, 7186 dev samples\n"
     ]
    }
   ],
   "source": [
    "train_idcs = df.anchor.isin(train_anchors)\n",
    "train_df = df.loc[train_idcs, :]\n",
    "\n",
    "dev_idcs = df.anchor.isin(dev_anchors)\n",
    "dev_df = df.loc[dev_idcs, :]\n",
    "\n",
    "assert len(train_df) + len(dev_df) == len(df)\n",
    "print(f\"{len(train_df)} training samples, {len(dev_df)} dev samples\")"
   ]
  },
  {
   "cell_type": "markdown",
   "id": "45954ba8-89c5-4a5d-a6ef-4d57940b6099",
   "metadata": {},
   "source": [
    "## Modelling - Vanilla PatentSBERTa"
   ]
  },
  {
   "cell_type": "code",
   "execution_count": 8,
   "id": "e181675d-fb6f-4d05-9ab1-cc4a21bbb76a",
   "metadata": {},
   "outputs": [],
   "source": [
    "model = SentenceTransformer(\"AI-Growth-Lab/PatentSBERTa\")"
   ]
  },
  {
   "cell_type": "code",
   "execution_count": 9,
   "id": "bcc56270-e1c2-4f87-b91e-bf74921403fb",
   "metadata": {},
   "outputs": [],
   "source": [
    "def get_sims(anchors: pd.Series, targets: pd.Series):\n",
    "    anchors_embed = model.encode(list(anchors.str.lower()))\n",
    "    targets_embed = model.encode(list(targets.str.lower()))\n",
    "    cosine_sims = []\n",
    "    for i in range(anchors_embed.shape[0]):\n",
    "        cosine_sims.append(1 - cosine(anchors_embed[i, :], targets_embed[i, :]))\n",
    "    return cosine_sims"
   ]
  },
  {
   "cell_type": "code",
   "execution_count": null,
   "id": "d1700b65-864b-4811-88e0-9554f4df9c3d",
   "metadata": {},
   "outputs": [],
   "source": [
    "train_sbert_corr = np.corrcoef(\n",
    "    get_sims(train_df.anchor, train_df.target), train_df.score\n",
    ")[0, 1]\n",
    "train_sbert_corr"
   ]
  },
  {
   "cell_type": "code",
   "execution_count": null,
   "id": "d8222469-a516-4826-9e69-caecc355241c",
   "metadata": {},
   "outputs": [],
   "source": [
    "dev_sbert_corr = np.corrcoef(get_sims(dev_df.anchor, dev_df.target), dev_df.score)[0, 1]\n",
    "dev_sbert_corr"
   ]
  },
  {
   "cell_type": "markdown",
   "id": "6cab5c1e-0fe4-4166-8892-8ed3993bd7cb",
   "metadata": {},
   "source": [
    "## Convert to HF Dataset for faster processing "
   ]
  },
  {
   "cell_type": "code",
   "execution_count": null,
   "id": "f565d280-7d25-4ada-9929-75fde1d65645",
   "metadata": {},
   "outputs": [],
   "source": [
    "# TODO\n",
    "# - tokenize"
   ]
  },
  {
   "cell_type": "code",
   "execution_count": null,
   "id": "a3366e99-774c-43aa-b431-0933842428ae",
   "metadata": {},
   "outputs": [],
   "source": [
    "model_name = \"microsoft/deberta-v3-small\""
   ]
  },
  {
   "cell_type": "code",
   "execution_count": null,
   "id": "a3c7e4ac-6732-478e-a255-cb041a1d659a",
   "metadata": {},
   "outputs": [],
   "source": [
    "def get_dataset_dict(df: pd.DataFrame, tokenizer: Callable):\n",
    "    ds = Dataset.from_pandas(df).rename_column(\"score\", \"label\")\n",
    "    tok_ds = ds.map(\n",
    "        tokenizer,\n",
    "        batched=True,\n",
    "        remove_columns=(\"anchor\", \"target\", \"context\", \"inputs\", \"id\", \"section\"),\n",
    "    )\n",
    "    return DatasetDict(\n",
    "        {\"train\": tok_ds.select(trn_idxs), \"test\": tok_ds.select(val_idxs)}\n",
    "    )"
   ]
  }
 ],
 "metadata": {
  "kernelspec": {
   "display_name": "20220417-USPPPM",
   "language": "python",
   "name": "20220417-uspppm"
  },
  "language_info": {
   "codemirror_mode": {
    "name": "ipython",
    "version": 3
   },
   "file_extension": ".py",
   "mimetype": "text/x-python",
   "name": "python",
   "nbconvert_exporter": "python",
   "pygments_lexer": "ipython3",
   "version": "3.7.12"
  }
 },
 "nbformat": 4,
 "nbformat_minor": 5
}
